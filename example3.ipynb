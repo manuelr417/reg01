{
 "cells": [
  {
   "attachments": {},
   "cell_type": "markdown",
   "metadata": {},
   "source": [
    "Load the Libraries"
   ]
  },
  {
   "cell_type": "code",
   "execution_count": 39,
   "metadata": {},
   "outputs": [],
   "source": [
    "import torch\n",
    "import numpy as np\n",
    "import matplotlib.pyplot as plt\n",
    "\n",
    "\n"
   ]
  },
  {
   "attachments": {},
   "cell_type": "markdown",
   "metadata": {},
   "source": [
    "Create auto generated data"
   ]
  },
  {
   "cell_type": "code",
   "execution_count": 40,
   "metadata": {},
   "outputs": [],
   "source": [
    "X = torch.arange(-5, 5, 0.1).view(-1, 1)\n",
    "func = -5 * X\n",
    "Y = func + 0.4 * torch.randn(X.size())\n",
    " \n"
   ]
  },
  {
   "attachments": {},
   "cell_type": "markdown",
   "metadata": {},
   "source": [
    "Look at the shape of the data"
   ]
  },
  {
   "cell_type": "code",
   "execution_count": 41,
   "metadata": {},
   "outputs": [
    {
     "name": "stdout",
     "output_type": "stream",
     "text": [
      "X.shape:  torch.Size([100, 1])\n",
      "Y.shaoe:  torch.Size([100, 1])\n"
     ]
    }
   ],
   "source": [
    "print(\"X.shape: \", X.shape)\n",
    "print(\"Y.shaoe: \", Y.shape)"
   ]
  },
  {
   "attachments": {},
   "cell_type": "markdown",
   "metadata": {},
   "source": [
    "These are tensors with 100 rows and 1 column each. "
   ]
  },
  {
   "cell_type": "code",
   "execution_count": 28,
   "metadata": {},
   "outputs": [],
   "source": [
    "#Usual first step is to try to visualize the data"
   ]
  },
  {
   "cell_type": "code",
   "execution_count": 42,
   "metadata": {},
   "outputs": [
    {
     "data": {
      "image/png": "[encoded data removed]",
      "text/plain": [
       "<Figure size 640x480 with 1 Axes>"
      ]
     },
     "metadata": {},
     "output_type": "display_data"
    }
   ],
   "source": [
    "plt.plot(X.numpy(), Y.numpy(), 'b+', label='Y')\n",
    "plt.plot(X.numpy(), func.numpy(), 'r', label='func')\n",
    "plt.xlabel('x')\n",
    "plt.ylabel('y')\n",
    "plt.legend()\n",
    "plt.grid('True', color='y')\n",
    "plt.show()\n"
   ]
  },
  {
   "attachments": {},
   "cell_type": "markdown",
   "metadata": {},
   "source": [
    "Create the model and cost function"
   ]
  },
  {
   "cell_type": "code",
   "execution_count": 43,
   "metadata": {},
   "outputs": [],
   "source": [
    "#Model\n",
    "class RegressionModel(torch.nn.Module):\n",
    "    def __init__(self, in_dim, out_dim):\n",
    "        super(RegressionModel, self).__init__()\n",
    "        self.linear= torch.nn.Linear(in_dim, out_dim, bias=True)\n",
    "    \n",
    "    def forward(self, x):\n",
    "        out = self.linear(x)\n",
    "        return out\n",
    "\n",
    "in_dim = 1 #one batch with all examples\n",
    "out_dim = 1 # only one regressor\n",
    "model = RegressionModel(in_dim,out_dim)\n",
    "\n",
    "#Cost function\n",
    "criterion = torch.nn.MSELoss()\n",
    "\n",
    "#learning rate\n",
    "lr  = 0.1\n",
    "#optimizer \n",
    "optimizer = torch.optim.SGD(model.parameters(), lr=lr)\n",
    "\n",
    "\n",
    "\n",
    "\n"
   ]
  },
  {
   "attachments": {},
   "cell_type": "markdown",
   "metadata": {},
   "source": [
    "Now Set up the learning rate and the number of epochs"
   ]
  },
  {
   "cell_type": "code",
   "execution_count": 44,
   "metadata": {},
   "outputs": [],
   "source": [
    "\n",
    "#arrat to keep loss after each iteration\n",
    "loss_list = []\n",
    "# number of iterations\n",
    "epochs = 20"
   ]
  },
  {
   "attachments": {},
   "cell_type": "markdown",
   "metadata": {},
   "source": [
    "Now we do a standar PyTorch training loop"
   ]
  },
  {
   "cell_type": "code",
   "execution_count": 45,
   "metadata": {},
   "outputs": [
    {
     "name": "stdout",
     "output_type": "stream",
     "text": [
      "0, \t154.8943328857422, \t[tensor([[-7.8998]]), tensor([-0.6787])]\n",
      "1, \t69.17559051513672, \t[tensor([[-3.1211]]), tensor([-0.5597])]\n",
      "2, \t30.96955108642578, \t[tensor([[-6.3073]]), tensor([-0.4168])]\n",
      "3, \t13.928325653076172, \t[tensor([[-4.1807]]), tensor([-0.3343])]\n",
      "4, \t6.319510459899902, \t[tensor([[-5.5983]]), tensor([-0.2470])]\n",
      "5, \t2.9172213077545166, \t[tensor([[-4.6519]]), tensor([-0.1914])]\n",
      "6, \t1.3927009105682373, \t[tensor([[-5.2826]]), tensor([-0.1375])]\n",
      "7, \t0.7075502872467041, \t[tensor([[-4.8613]]), tensor([-0.1006])]\n",
      "8, \t0.3983399569988251, \t[tensor([[-5.1419]]), tensor([-0.0669])]\n",
      "9, \t0.2579743266105652, \t[tensor([[-4.9544]]), tensor([-0.0427])]\n",
      "10, \t0.19373928010463715, \t[tensor([[-5.0793]]), tensor([-0.0215])]\n",
      "11, \t0.16402000188827515, \t[tensor([[-4.9958]]), tensor([-0.0058])]\n",
      "12, \t0.1500682830810547, \t[tensor([[-5.0513]]), tensor([0.0076])]\n",
      "13, \t0.14339430630207062, \t[tensor([[-5.0141]]), tensor([0.0178])]\n",
      "14, \t0.14012661576271057, \t[tensor([[-5.0388]]), tensor([0.0263])]\n",
      "15, \t0.1384817361831665, \t[tensor([[-5.0223]]), tensor([0.0328])]\n",
      "16, \t0.13762769103050232, \t[tensor([[-5.0333]]), tensor([0.0382])]\n",
      "17, \t0.1371694952249527, \t[tensor([[-5.0259]]), tensor([0.0425])]\n",
      "18, \t0.13691553473472595, \t[tensor([[-5.0308]]), tensor([0.0459])]\n",
      "19, \t0.13677054643630981, \t[tensor([[-5.0275]]), tensor([0.0486])]\n"
     ]
    }
   ],
   "source": [
    "for i  in range(epochs):\n",
    "    #setup optimizer to zero grandients\n",
    "    optimizer.zero_grad()\n",
    "    # Make predictions for the all the examples in X (vectorization)\n",
    "    Y_pred = model.forward(X)\n",
    "    # now calculate the loss \n",
    "    loss = criterion(Y_pred, Y)\n",
    "    #append the lost to the list\n",
    "    loss_list.append(loss.item())\n",
    "    #back propagation step\n",
    "    loss.backward()\n",
    "    #parameter update\n",
    "    optimizer.step()\n",
    "    # print diagnostic data\n",
    "    print('{}, \\t{}, \\t{}'.format(i, loss.item(), [param.data for param in model.parameters()]))\n",
    "\n"
   ]
  },
  {
   "attachments": {},
   "cell_type": "markdown",
   "metadata": {},
   "source": [
    "Finally Plot the loss after each iteration"
   ]
  },
  {
   "cell_type": "code",
   "execution_count": 46,
   "metadata": {},
   "outputs": [
    {
     "data": {
      "image/png": "[encoded data removed]",
      "text/plain": [
       "<Figure size 640x480 with 1 Axes>"
      ]
     },
     "metadata": {},
     "output_type": "display_data"
    }
   ],
   "source": [
    "plt.plot(loss_list, 'r')\n",
    "plt.tight_layout()\n",
    "plt.grid('True', color='y')\n",
    "plt.xlabel(\"Epochs/Iterations\")\n",
    "plt.ylabel(\"Loss\")\n",
    "plt.show()"
   ]
  },
  {
   "cell_type": "code",
   "execution_count": 57,
   "metadata": {},
   "outputs": [
    {
     "name": "stdout",
     "output_type": "stream",
     "text": [
      "tensor([1., 4., 7.])\n",
      "x_data.shape:  torch.Size([3])\n",
      "X1.shape:  torch.Size([34])\n",
      "X1:  tensor([-5.0000, -4.7000, -4.4000, -4.1000, -3.8000, -3.5000, -3.2000, -2.9000,\n",
      "        -2.6000, -2.3000, -2.0000, -1.7000, -1.4000, -1.1000, -0.8000, -0.5000,\n",
      "        -0.2000,  0.1000,  0.4000,  0.7000,  1.0000,  1.3000,  1.6000,  1.9000,\n",
      "         2.2000,  2.5000,  2.8000,  3.1000,  3.4000,  3.7000,  4.0000,  4.3000,\n",
      "         4.6000,  4.9000])\n",
      "tensor([[-5.0000],\n",
      "        [-4.7000],\n",
      "        [-4.4000],\n",
      "        [-4.1000],\n",
      "        [-3.8000],\n",
      "        [-3.5000],\n",
      "        [-3.2000],\n",
      "        [-2.9000],\n",
      "        [-2.6000],\n",
      "        [-2.3000],\n",
      "        [-2.0000],\n",
      "        [-1.7000],\n",
      "        [-1.4000],\n",
      "        [-1.1000],\n",
      "        [-0.8000],\n",
      "        [-0.5000],\n",
      "        [-0.2000],\n",
      "        [ 0.1000],\n",
      "        [ 0.4000],\n",
      "        [ 0.7000],\n",
      "        [ 1.0000],\n",
      "        [ 1.3000],\n",
      "        [ 1.6000],\n",
      "        [ 1.9000],\n",
      "        [ 2.2000],\n",
      "        [ 2.5000],\n",
      "        [ 2.8000],\n",
      "        [ 3.1000],\n",
      "        [ 3.4000],\n",
      "        [ 3.7000],\n",
      "        [ 4.0000],\n",
      "        [ 4.3000],\n",
      "        [ 4.6000],\n",
      "        [ 4.9000]])\n",
      "Y2:  tensor([[ 25.1860],\n",
      "        [ 23.6777],\n",
      "        [ 22.1695],\n",
      "        [ 20.6613],\n",
      "        [ 19.1530],\n",
      "        [ 17.6448],\n",
      "        [ 16.1365],\n",
      "        [ 14.6283],\n",
      "        [ 13.1201],\n",
      "        [ 11.6118],\n",
      "        [ 10.1036],\n",
      "        [  8.5953],\n",
      "        [  7.0871],\n",
      "        [  5.5788],\n",
      "        [  4.0706],\n",
      "        [  2.5624],\n",
      "        [  1.0541],\n",
      "        [ -0.4541],\n",
      "        [ -1.9624],\n",
      "        [ -3.4706],\n",
      "        [ -4.9788],\n",
      "        [ -6.4871],\n",
      "        [ -7.9953],\n",
      "        [ -9.5036],\n",
      "        [-11.0118],\n",
      "        [-12.5201],\n",
      "        [-14.0283],\n",
      "        [-15.5365],\n",
      "        [-17.0448],\n",
      "        [-18.5530],\n",
      "        [-20.0613],\n",
      "        [-21.5695],\n",
      "        [-23.0777],\n",
      "        [-24.5860]], grad_fn=<AddmmBackward0>)\n",
      "Y2:  tensor([[ -4.9788],\n",
      "        [-20.0613],\n",
      "        [-35.1437]], grad_fn=<AddmmBackward0>)\n"
     ]
    }
   ],
   "source": [
    "data = []\n",
    "data.append(1.0)\n",
    "data.append(4.0)\n",
    "data.append(7.0)\n",
    "\n",
    "x_data = torch.tensor(data)\n",
    "print(x_data)\n",
    "print(\"x_data.shape: \", x_data.shape)\n",
    "\n",
    "X1 = torch.arange(-5, 5, 0.3)\n",
    "print(\"X1.shape: \", X1.shape)\n",
    "print(\"X1: \", X1)\n",
    "\n",
    "X2 = torch.arange(-5, 5, 0.3).view(-1, 1)\n",
    "print(X2)\n",
    "\n",
    "Y2 = model.forward(X2)\n",
    "print(\"Y2: \", Y2)\n",
    "\n",
    "x_data = x_data.view(-1, 1)\n",
    "Y2 = model.forward(x_data)\n",
    "print(\"Y2: \", Y2)\n"
   ]
  }
 ],
 "metadata": {
  "kernelspec": {
   "display_name": "pytorch2",
   "language": "python",
   "name": "python3"
  },
  "language_info": {
   "codemirror_mode": {
    "name": "ipython",
    "version": 3
   },
   "file_extension": ".py",
   "mimetype": "text/x-python",
   "name": "python",
   "nbconvert_exporter": "python",
   "pygments_lexer": "ipython3",
   "version": "3.8.16"
  },
  "orig_nbformat": 4
 },
 "nbformat": 4,
 "nbformat_minor": 2
}
