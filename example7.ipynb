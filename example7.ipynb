{
 "cells": [
  {
   "cell_type": "code",
   "execution_count": 18,
   "metadata": {},
   "outputs": [],
   "source": [
    "import torch\n",
    "import torchvision\n",
    "import torchvision.transforms as transforms"
   ]
  },
  {
   "attachments": {},
   "cell_type": "markdown",
   "metadata": {},
   "source": [
    "Load device"
   ]
  },
  {
   "cell_type": "code",
   "execution_count": 20,
   "metadata": {},
   "outputs": [
    {
     "data": {
      "text/plain": [
       "device(type='mps')"
      ]
     },
     "execution_count": 20,
     "metadata": {},
     "output_type": "execute_result"
    }
   ],
   "source": [
    "device = \"cuda\" if torch.cuda.is_available() else \"mps\" if torch.backends.mps.is_available() else \"cpu\"\n",
    "#device = \"cuda\" if torch.cuda.is_available()  else \"cpu\"\n",
    "torch.device(device)\n"
   ]
  },
  {
   "attachments": {},
   "cell_type": "markdown",
   "metadata": {},
   "source": [
    "Load Data"
   ]
  },
  {
   "cell_type": "code",
   "execution_count": 21,
   "metadata": {},
   "outputs": [
    {
     "name": "stdout",
     "output_type": "stream",
     "text": [
      "Files already downloaded and verified\n",
      "Files already downloaded and verified\n"
     ]
    }
   ],
   "source": [
    "transform = transforms.Compose([\n",
    "    transforms.Resize(size=(224, 224)),\n",
    "    transforms.ToTensor(),\n",
    "    transforms.Normalize( \n",
    "       (0.4914, 0.4822, 0.4465), (0.2023, 0.1994, 0.2010) \n",
    "    )\n",
    "])\n",
    "\n",
    "train_dataset = torchvision.datasets.CIFAR10(\n",
    "    root= './data', train = True,\n",
    "    download =True, transform = transform)\n",
    "\n",
    "test_dataset = torchvision.datasets.CIFAR10(\n",
    "    root= './data', train = False,\n",
    "    download =True, transform = transform)"
   ]
  },
  {
   "attachments": {},
   "cell_type": "markdown",
   "metadata": {},
   "source": [
    "Data loaders"
   ]
  },
  {
   "cell_type": "code",
   "execution_count": 22,
   "metadata": {},
   "outputs": [
    {
     "name": "stdout",
     "output_type": "stream",
     "text": [
      "1250\n"
     ]
    }
   ],
   "source": [
    "num_epochs = 5\n",
    "batch_size = 40\n",
    "learning_rate = 0.001\n",
    "\n",
    "train_loader = torch.utils.data.DataLoader(train_dataset\n",
    "    , batch_size = batch_size\n",
    "    , shuffle = True)\n",
    "\n",
    "test_loader = torch.utils.data.DataLoader(test_dataset\n",
    "    , batch_size = batch_size\n",
    "    , shuffle = True)\n",
    "\n",
    "n_total_step = len(train_loader)\n",
    "print(n_total_step)"
   ]
  },
  {
   "attachments": {},
   "cell_type": "markdown",
   "metadata": {},
   "source": [
    "Creare instance of pre-trained VGG16 model"
   ]
  },
  {
   "cell_type": "code",
   "execution_count": 23,
   "metadata": {},
   "outputs": [
    {
     "name": "stderr",
     "output_type": "stream",
     "text": [
      "/Users/manuelrodriguez/miniconda3/envs/pytorch2/lib/python3.8/site-packages/torchvision/models/_utils.py:208: UserWarning: The parameter 'pretrained' is deprecated since 0.13 and may be removed in the future, please use 'weights' instead.\n",
      "  warnings.warn(\n",
      "/Users/manuelrodriguez/miniconda3/envs/pytorch2/lib/python3.8/site-packages/torchvision/models/_utils.py:223: UserWarning: Arguments other than a weight enum or `None` for 'weights' are deprecated since 0.13 and may be removed in the future. The current behavior is equivalent to passing `weights=VGG16_Weights.IMAGENET1K_V1`. You can also use `weights=VGG16_Weights.DEFAULT` to get the most up-to-date weights.\n",
      "  warnings.warn(msg)\n"
     ]
    }
   ],
   "source": [
    "from torchvision import models\n",
    "import torch.nn as nn\n",
    "\n",
    "model = models.vgg16(pretrained = True)\n",
    "input_lastLayer = model.classifier[6].in_features\n",
    "model.classifier[6] = nn.Linear(input_lastLayer,10)\n",
    "model = model.to(device)"
   ]
  },
  {
   "attachments": {},
   "cell_type": "markdown",
   "metadata": {},
   "source": [
    "Look the network"
   ]
  },
  {
   "cell_type": "code",
   "execution_count": 25,
   "metadata": {},
   "outputs": [
    {
     "name": "stderr",
     "output_type": "stream",
     "text": [
      "/Users/manuelrodriguez/miniconda3/envs/pytorch2/lib/python3.8/site-packages/torchinfo/torchinfo.py:477: UserWarning: TypedStorage is deprecated. It will be removed in the future and UntypedStorage will be the only storage class. This should only matter to you if you are using storages directly.  To access UntypedStorage directly, use tensor.untyped_storage() instead of tensor.storage()\n",
      "  action_fn=lambda data: sys.getsizeof(data.storage()),\n",
      "/Users/manuelrodriguez/miniconda3/envs/pytorch2/lib/python3.8/site-packages/torch/storage.py:665: UserWarning: TypedStorage is deprecated. It will be removed in the future and UntypedStorage will be the only storage class. This should only matter to you if you are using storages directly.  To access UntypedStorage directly, use tensor.untyped_storage() instead of tensor.storage()\n",
      "  return super().__sizeof__() + self.nbytes()\n"
     ]
    },
    {
     "data": {
      "text/plain": [
       "===================================================================================================================\n",
       "Layer (type:depth-idx)                   Input Shape               Output Shape              Param #\n",
       "===================================================================================================================\n",
       "VGG                                      [40, 3, 224, 224]         [40, 10]                  --\n",
       "├─Sequential: 1-1                        [40, 3, 224, 224]         [40, 512, 7, 7]           --\n",
       "│    └─Conv2d: 2-1                       [40, 3, 224, 224]         [40, 64, 224, 224]        1,792\n",
       "│    └─ReLU: 2-2                         [40, 64, 224, 224]        [40, 64, 224, 224]        --\n",
       "│    └─Conv2d: 2-3                       [40, 64, 224, 224]        [40, 64, 224, 224]        36,928\n",
       "│    └─ReLU: 2-4                         [40, 64, 224, 224]        [40, 64, 224, 224]        --\n",
       "│    └─MaxPool2d: 2-5                    [40, 64, 224, 224]        [40, 64, 112, 112]        --\n",
       "│    └─Conv2d: 2-6                       [40, 64, 112, 112]        [40, 128, 112, 112]       73,856\n",
       "│    └─ReLU: 2-7                         [40, 128, 112, 112]       [40, 128, 112, 112]       --\n",
       "│    └─Conv2d: 2-8                       [40, 128, 112, 112]       [40, 128, 112, 112]       147,584\n",
       "│    └─ReLU: 2-9                         [40, 128, 112, 112]       [40, 128, 112, 112]       --\n",
       "│    └─MaxPool2d: 2-10                   [40, 128, 112, 112]       [40, 128, 56, 56]         --\n",
       "│    └─Conv2d: 2-11                      [40, 128, 56, 56]         [40, 256, 56, 56]         295,168\n",
       "│    └─ReLU: 2-12                        [40, 256, 56, 56]         [40, 256, 56, 56]         --\n",
       "│    └─Conv2d: 2-13                      [40, 256, 56, 56]         [40, 256, 56, 56]         590,080\n",
       "│    └─ReLU: 2-14                        [40, 256, 56, 56]         [40, 256, 56, 56]         --\n",
       "│    └─Conv2d: 2-15                      [40, 256, 56, 56]         [40, 256, 56, 56]         590,080\n",
       "│    └─ReLU: 2-16                        [40, 256, 56, 56]         [40, 256, 56, 56]         --\n",
       "│    └─MaxPool2d: 2-17                   [40, 256, 56, 56]         [40, 256, 28, 28]         --\n",
       "│    └─Conv2d: 2-18                      [40, 256, 28, 28]         [40, 512, 28, 28]         1,180,160\n",
       "│    └─ReLU: 2-19                        [40, 512, 28, 28]         [40, 512, 28, 28]         --\n",
       "│    └─Conv2d: 2-20                      [40, 512, 28, 28]         [40, 512, 28, 28]         2,359,808\n",
       "│    └─ReLU: 2-21                        [40, 512, 28, 28]         [40, 512, 28, 28]         --\n",
       "│    └─Conv2d: 2-22                      [40, 512, 28, 28]         [40, 512, 28, 28]         2,359,808\n",
       "│    └─ReLU: 2-23                        [40, 512, 28, 28]         [40, 512, 28, 28]         --\n",
       "│    └─MaxPool2d: 2-24                   [40, 512, 28, 28]         [40, 512, 14, 14]         --\n",
       "│    └─Conv2d: 2-25                      [40, 512, 14, 14]         [40, 512, 14, 14]         2,359,808\n",
       "│    └─ReLU: 2-26                        [40, 512, 14, 14]         [40, 512, 14, 14]         --\n",
       "│    └─Conv2d: 2-27                      [40, 512, 14, 14]         [40, 512, 14, 14]         2,359,808\n",
       "│    └─ReLU: 2-28                        [40, 512, 14, 14]         [40, 512, 14, 14]         --\n",
       "│    └─Conv2d: 2-29                      [40, 512, 14, 14]         [40, 512, 14, 14]         2,359,808\n",
       "│    └─ReLU: 2-30                        [40, 512, 14, 14]         [40, 512, 14, 14]         --\n",
       "│    └─MaxPool2d: 2-31                   [40, 512, 14, 14]         [40, 512, 7, 7]           --\n",
       "├─AdaptiveAvgPool2d: 1-2                 [40, 512, 7, 7]           [40, 512, 7, 7]           --\n",
       "├─Sequential: 1-3                        [40, 25088]               [40, 10]                  --\n",
       "│    └─Linear: 2-32                      [40, 25088]               [40, 4096]                102,764,544\n",
       "│    └─ReLU: 2-33                        [40, 4096]                [40, 4096]                --\n",
       "│    └─Dropout: 2-34                     [40, 4096]                [40, 4096]                --\n",
       "│    └─Linear: 2-35                      [40, 4096]                [40, 4096]                16,781,312\n",
       "│    └─ReLU: 2-36                        [40, 4096]                [40, 4096]                --\n",
       "│    └─Dropout: 2-37                     [40, 4096]                [40, 4096]                --\n",
       "│    └─Linear: 2-38                      [40, 4096]                [40, 10]                  40,970\n",
       "===================================================================================================================\n",
       "Total params: 134,301,514\n",
       "Trainable params: 134,301,514\n",
       "Non-trainable params: 0\n",
       "Total mult-adds (G): 619.19\n",
       "===================================================================================================================\n",
       "Input size (MB): 24.08\n",
       "Forward/backward pass size (MB): 4337.83\n",
       "Params size (MB): 537.21\n",
       "Estimated Total Size (MB): 4899.12\n",
       "==================================================================================================================="
      ]
     },
     "execution_count": 25,
     "metadata": {},
     "output_type": "execute_result"
    }
   ],
   "source": [
    "from torchinfo import summary\n",
    "\n",
    "summary(model, input_size=(batch_size, 3, 224, 224), device=device, col_names=['input_size', 'output_size',\n",
    "                                                                              'num_params'])"
   ]
  },
  {
   "attachments": {},
   "cell_type": "markdown",
   "metadata": {},
   "source": [
    "set up cost and optimizer"
   ]
  },
  {
   "cell_type": "code",
   "execution_count": 26,
   "metadata": {},
   "outputs": [],
   "source": [
    "criterion = nn.CrossEntropyLoss().to(device)\n",
    "optimizer = torch.optim.SGD(model.parameters(), lr = learning_rate, momentum=0.9,weight_decay=5e-4)"
   ]
  },
  {
   "attachments": {},
   "cell_type": "markdown",
   "metadata": {},
   "source": [
    "Train the model\n"
   ]
  },
  {
   "cell_type": "code",
   "execution_count": 28,
   "metadata": {},
   "outputs": [
    {
     "ename": "KeyboardInterrupt",
     "evalue": "",
     "output_type": "error",
     "traceback": [
      "\u001b[0;31m---------------------------------------------------------------------------\u001b[0m",
      "\u001b[0;31mKeyboardInterrupt\u001b[0m                         Traceback (most recent call last)",
      "Cell \u001b[0;32mIn[28], line 6\u001b[0m\n\u001b[1;32m      4\u001b[0m labels \u001b[39m=\u001b[39m labels\u001b[39m.\u001b[39mto(device)\n\u001b[1;32m      5\u001b[0m labels_hat \u001b[39m=\u001b[39m model(imgs)\n\u001b[0;32m----> 6\u001b[0m n_corrects \u001b[39m=\u001b[39m (labels_hat\u001b[39m.\u001b[39;49margmax(axis\u001b[39m=\u001b[39;49m\u001b[39m1\u001b[39;49m)\u001b[39m==\u001b[39;49mlabels)\u001b[39m.\u001b[39;49msum()\u001b[39m.\u001b[39;49mitem()\n\u001b[1;32m      7\u001b[0m loss_value \u001b[39m=\u001b[39m criterion(labels_hat, labels)\n\u001b[1;32m      8\u001b[0m loss_value\u001b[39m.\u001b[39mbackward()\n",
      "\u001b[0;31mKeyboardInterrupt\u001b[0m: "
     ]
    }
   ],
   "source": [
    "for epoch in range(1):\n",
    "    for i, (imgs , labels) in enumerate(train_loader):\n",
    "        imgs = imgs.to(device)\n",
    "        labels = labels.to(device)\n",
    "        labels_hat = model(imgs)\n",
    "        n_corrects = (labels_hat.argmax(axis=1)==labels).sum().item()\n",
    "        loss_value = criterion(labels_hat, labels)\n",
    "        loss_value.backward()\n",
    "        optimizer.step()\n",
    "        optimizer.zero_grad()\n",
    "        if (i+1) % 250 == 0:\n",
    "            print(f'epoch {epoch+1}/{num_epochs}, step: {i+1}/{n_total_step}: loss = {loss_value:.5f}, acc = {100*(n_corrects/labels.size(0)):.2f}%')\n",
    "            print()"
   ]
  }
 ],
 "metadata": {
  "kernelspec": {
   "display_name": "pytorch2",
   "language": "python",
   "name": "python3"
  },
  "language_info": {
   "codemirror_mode": {
    "name": "ipython",
    "version": 3
   },
   "file_extension": ".py",
   "mimetype": "text/x-python",
   "name": "python",
   "nbconvert_exporter": "python",
   "pygments_lexer": "ipython3",
   "version": "3.8.16"
  },
  "orig_nbformat": 4
 },
 "nbformat": 4,
 "nbformat_minor": 2
}
