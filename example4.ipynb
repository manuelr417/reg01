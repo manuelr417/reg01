{
 "cells": [
  {
   "cell_type": "code",
   "execution_count": 8,
   "metadata": {},
   "outputs": [],
   "source": [
    "import torch\n",
    "import torchvision\n",
    "import torchvision.transforms as transforms"
   ]
  },
  {
   "attachments": {},
   "cell_type": "markdown",
   "metadata": {},
   "source": [
    "Set up data loaders"
   ]
  },
  {
   "cell_type": "code",
   "execution_count": 9,
   "metadata": {},
   "outputs": [
    {
     "name": "stdout",
     "output_type": "stream",
     "text": [
      "Files already downloaded and verified\n",
      "Files already downloaded and verified\n"
     ]
    }
   ],
   "source": [
    "transform = transforms.Compose(\n",
    "    [transforms.ToTensor(),\n",
    "     transforms.Normalize((0.5, 0.5, 0.5), (0.5, 0.5, 0.5))])\n",
    "\n",
    "batch_size = 4\n",
    "\n",
    "trainset = torchvision.datasets.CIFAR10(root='./data', train=True,\n",
    "                                        download=True, transform=transform)\n",
    "trainloader = torch.utils.data.DataLoader(trainset, batch_size=batch_size,\n",
    "                                          shuffle=True, num_workers=2)\n",
    "\n",
    "testset = torchvision.datasets.CIFAR10(root='./data', train=False,\n",
    "                                       download=True, transform=transform)\n",
    "testloader = torch.utils.data.DataLoader(testset, batch_size=batch_size,\n",
    "                                         shuffle=False, num_workers=2)\n",
    "\n",
    "classes = ('plane', 'car', 'bird', 'cat',\n",
    "           'deer', 'dog', 'frog', 'horse', 'ship', 'truck')"
   ]
  },
  {
   "attachments": {},
   "cell_type": "markdown",
   "metadata": {},
   "source": [
    "Use Matplot lib to see a few data examples"
   ]
  },
  {
   "cell_type": "code",
   "execution_count": 10,
   "metadata": {},
   "outputs": [
    {
     "data": {
      "image/png": "[encoded data removed]",
      "text/plain": [
       "<Figure size 640x480 with 1 Axes>"
      ]
     },
     "metadata": {},
     "output_type": "display_data"
    },
    {
     "name": "stdout",
     "output_type": "stream",
     "text": [
      "frog  horse truck cat  \n"
     ]
    }
   ],
   "source": [
    "import matplotlib.pyplot as plt\n",
    "import numpy as np\n",
    "\n",
    "# functions to show an image\n",
    "\n",
    "\n",
    "def imshow(img):\n",
    "    img = img / 2 + 0.5     # unnormalize\n",
    "    npimg = img.numpy()\n",
    "    plt.imshow(np.transpose(npimg, (1, 2, 0)))\n",
    "    plt.show()\n",
    "\n",
    "\n",
    "# get some random training images\n",
    "dataiter = iter(trainloader)\n",
    "images, labels = next(dataiter)\n",
    "\n",
    "\n",
    "# show images\n",
    "imshow(torchvision.utils.make_grid(images))\n",
    "# print labels\n",
    "print(' '.join(f'{classes[labels[j]]:5s}' for j in range(batch_size)))"
   ]
  },
  {
   "attachments": {},
   "cell_type": "markdown",
   "metadata": {},
   "source": [
    "Let us understand the shapes of the data\n",
    "First let us look at the images structures"
   ]
  },
  {
   "cell_type": "code",
   "execution_count": 11,
   "metadata": {},
   "outputs": [
    {
     "name": "stdout",
     "output_type": "stream",
     "text": [
      "images shape:  torch.Size([4, 3, 32, 32])\n"
     ]
    }
   ],
   "source": [
    "print(\"images shape: \", images.shape)\n"
   ]
  },
  {
   "cell_type": "code",
   "execution_count": null,
   "metadata": {},
   "outputs": [],
   "source": []
  },
  {
   "attachments": {},
   "cell_type": "markdown",
   "metadata": {},
   "source": [
    "Images is a batch of 4 images. An each image has a shape of 3 x 32 x 32. Let us look in more detail"
   ]
  },
  {
   "cell_type": "code",
   "execution_count": 12,
   "metadata": {},
   "outputs": [
    {
     "name": "stdout",
     "output_type": "stream",
     "text": [
      "temp:  torch.Size([3, 32, 32])\n"
     ]
    }
   ],
   "source": [
    "temp = images[0]\n",
    "print(\"temp: \", temp.shape)"
   ]
  },
  {
   "cell_type": "code",
   "execution_count": 13,
   "metadata": {},
   "outputs": [
    {
     "name": "stdout",
     "output_type": "stream",
     "text": [
      "temp.view(-1).shape:  torch.Size([3072])\n"
     ]
    }
   ],
   "source": [
    "print(\"temp.view(-1).shape: \", temp.view(-1).shape)\n"
   ]
  },
  {
   "cell_type": "code",
   "execution_count": 14,
   "metadata": {},
   "outputs": [
    {
     "name": "stdout",
     "output_type": "stream",
     "text": [
      "torch.Size([4, 3072])\n"
     ]
    }
   ],
   "source": [
    "print(images.view(-1, 3072).shape)"
   ]
  },
  {
   "cell_type": "code",
   "execution_count": 15,
   "metadata": {},
   "outputs": [],
   "source": [
    "import torch.nn as nn\n",
    "\n",
    "class FCModel (nn.Module):\n",
    "    def __init__(self, input_size):\n",
    "        super(FCModel, self).__init__()\n",
    "        self.layer1 = nn.Linear(input_size, 30)\n",
    "        self.layer2 = nn.Linear(30, 10)\n",
    "        self.activation1 = nn.ReLU()\n",
    "        self.out_activation = nn.Softmax(dim=1)\n",
    "\n",
    "    def forward(self, x):\n",
    "        #print(\"forward shape: \", x.shape)\n",
    "        x = x.view(-1, 3072)\n",
    "        #x = torch.flatten(x)\n",
    "\n",
    "        #print(\"forward shape: \", x.shape)\n",
    "\n",
    "        x = self.layer1(x)\n",
    "        x = self.activation1(x)\n",
    "        x = self.layer2(x)\n",
    "        x = self.out_activation(x)\n",
    "        return x\n",
    "\n",
    "nnet = FCModel(3072)\n"
   ]
  },
  {
   "cell_type": "code",
   "execution_count": 16,
   "metadata": {},
   "outputs": [
    {
     "name": "stderr",
     "output_type": "stream",
     "text": [
      "/Users/manuelrodriguez/miniconda3/envs/pytorch2/lib/python3.8/site-packages/torchinfo/torchinfo.py:477: UserWarning: TypedStorage is deprecated. It will be removed in the future and UntypedStorage will be the only storage class. This should only matter to you if you are using storages directly.  To access UntypedStorage directly, use tensor.untyped_storage() instead of tensor.storage()\n",
      "  action_fn=lambda data: sys.getsizeof(data.storage()),\n",
      "/Users/manuelrodriguez/miniconda3/envs/pytorch2/lib/python3.8/site-packages/torch/storage.py:665: UserWarning: TypedStorage is deprecated. It will be removed in the future and UntypedStorage will be the only storage class. This should only matter to you if you are using storages directly.  To access UntypedStorage directly, use tensor.untyped_storage() instead of tensor.storage()\n",
      "  return super().__sizeof__() + self.nbytes()\n"
     ]
    },
    {
     "data": {
      "text/plain": [
       "===================================================================================================================\n",
       "Layer (type:depth-idx)                   Input Shape               Output Shape              Param #\n",
       "===================================================================================================================\n",
       "FCModel                                  [64, 3, 32, 32]           [64, 10]                  --\n",
       "├─Linear: 1-1                            [64, 3072]                [64, 30]                  92,190\n",
       "├─ReLU: 1-2                              [64, 30]                  [64, 30]                  --\n",
       "├─Linear: 1-3                            [64, 30]                  [64, 10]                  310\n",
       "├─Softmax: 1-4                           [64, 10]                  [64, 10]                  --\n",
       "===================================================================================================================\n",
       "Total params: 92,500\n",
       "Trainable params: 92,500\n",
       "Non-trainable params: 0\n",
       "Total mult-adds (M): 5.92\n",
       "===================================================================================================================\n",
       "Input size (MB): 0.79\n",
       "Forward/backward pass size (MB): 0.02\n",
       "Params size (MB): 0.37\n",
       "Estimated Total Size (MB): 1.18\n",
       "==================================================================================================================="
      ]
     },
     "execution_count": 16,
     "metadata": {},
     "output_type": "execute_result"
    }
   ],
   "source": [
    "from torchinfo import summary\n",
    "\n",
    "batch_size = 64 #for illustration\n",
    "\n",
    "summary(nnet, input_size=(batch_size, 3, 32, 32), device='cpu', col_names=['input_size', 'output_size',\n",
    "                                                                           'num_params'])"
   ]
  },
  {
   "cell_type": "code",
   "execution_count": 17,
   "metadata": {},
   "outputs": [],
   "source": [
    "import torch.optim as optim\n",
    "\n",
    "criterion = nn.CrossEntropyLoss()\n",
    "optimizer = optim.SGD(nnet.parameters(), lr=0.01)"
   ]
  },
  {
   "cell_type": "code",
   "execution_count": 18,
   "metadata": {},
   "outputs": [
    {
     "name": "stdout",
     "output_type": "stream",
     "text": [
      "[1,  2000] loss: 2.246\n",
      "[1,  4000] loss: 2.171\n",
      "[1,  6000] loss: 2.122\n",
      "[1,  8000] loss: 2.102\n",
      "[1, 10000] loss: 2.087\n",
      "[1, 12000] loss: 2.086\n",
      "[2,  2000] loss: 2.070\n",
      "[2,  4000] loss: 2.062\n",
      "[2,  6000] loss: 2.061\n",
      "[2,  8000] loss: 2.063\n",
      "[2, 10000] loss: 2.050\n",
      "[2, 12000] loss: 2.048\n",
      "[3,  2000] loss: 2.030\n",
      "[3,  4000] loss: 2.030\n",
      "[3,  6000] loss: 2.037\n",
      "[3,  8000] loss: 2.035\n",
      "[3, 10000] loss: 2.024\n",
      "[3, 12000] loss: 2.031\n",
      "[4,  2000] loss: 2.012\n",
      "[4,  4000] loss: 2.015\n",
      "[4,  6000] loss: 2.019\n",
      "[4,  8000] loss: 2.017\n",
      "[4, 10000] loss: 2.011\n",
      "[4, 12000] loss: 2.003\n",
      "[5,  2000] loss: 2.005\n",
      "[5,  4000] loss: 1.996\n",
      "[5,  6000] loss: 1.997\n",
      "[5,  8000] loss: 2.005\n",
      "[5, 10000] loss: 1.998\n",
      "[5, 12000] loss: 1.999\n",
      "[6,  2000] loss: 1.986\n",
      "[6,  4000] loss: 1.994\n",
      "[6,  6000] loss: 1.986\n",
      "[6,  8000] loss: 1.987\n",
      "[6, 10000] loss: 1.987\n",
      "[6, 12000] loss: 1.988\n",
      "[7,  2000] loss: 1.978\n",
      "[7,  4000] loss: 1.978\n",
      "[7,  6000] loss: 1.987\n",
      "[7,  8000] loss: 1.974\n",
      "[7, 10000] loss: 1.975\n",
      "[7, 12000] loss: 1.986\n",
      "[8,  2000] loss: 1.962\n",
      "[8,  4000] loss: 1.969\n",
      "[8,  6000] loss: 1.969\n",
      "[8,  8000] loss: 1.975\n",
      "[8, 10000] loss: 1.975\n",
      "[8, 12000] loss: 1.970\n",
      "[9,  2000] loss: 1.958\n",
      "[9,  4000] loss: 1.968\n",
      "[9,  6000] loss: 1.968\n",
      "[9,  8000] loss: 1.962\n",
      "[9, 10000] loss: 1.972\n",
      "[9, 12000] loss: 1.963\n",
      "[10,  2000] loss: 1.959\n",
      "[10,  4000] loss: 1.964\n",
      "[10,  6000] loss: 1.954\n",
      "[10,  8000] loss: 1.960\n",
      "[10, 10000] loss: 1.954\n",
      "[10, 12000] loss: 1.963\n",
      "Finished Training\n"
     ]
    }
   ],
   "source": [
    "for epoch in range(10):  # loop over the dataset multiple times\n",
    "\n",
    "    running_loss = 0.0\n",
    "    for i, data in enumerate(trainloader, 0):\n",
    "        # get the inputs; data is a list of [inputs, labels]\n",
    "        inputs, labels = data\n",
    "\n",
    "        # zero the parameter gradients\n",
    "        optimizer.zero_grad()\n",
    "\n",
    "        # forward + backward + optimize\n",
    "        outputs = nnet(inputs)\n",
    "        loss = criterion(outputs, labels)\n",
    "        loss.backward()\n",
    "        optimizer.step()\n",
    "\n",
    "        # print statistics\n",
    "        running_loss += loss.item()\n",
    "        if i % 2000 == 1999:    # print every 2000 mini-batches\n",
    "            print(f'[{epoch + 1}, {i + 1:5d}] loss: {running_loss / 2000:.3f}')\n",
    "            running_loss = 0.0\n",
    "\n",
    "print('Finished Training')"
   ]
  },
  {
   "cell_type": "code",
   "execution_count": 19,
   "metadata": {},
   "outputs": [
    {
     "name": "stdout",
     "output_type": "stream",
     "text": [
      "Accuracy of the network on the 10000 test images: 45 %\n"
     ]
    }
   ],
   "source": [
    "correct = 0\n",
    "total = 0\n",
    "# since we're not training, we don't need to calculate the gradients for our outputs\n",
    "with torch.no_grad():\n",
    "    for data in testloader:\n",
    "        images, labels = data\n",
    "        # calculate outputs by running images through the network\n",
    "        outputs = nnet(images)\n",
    "        # the class with the highest energy is what we choose as prediction\n",
    "        _, predicted = torch.max(outputs.data, 1)\n",
    "        total += labels.size(0)\n",
    "        correct += (predicted == labels).sum().item()\n",
    "\n",
    "print(f'Accuracy of the network on the 10000 test images: {100 * correct // total} %')"
   ]
  }
 ],
 "metadata": {
  "kernelspec": {
   "display_name": "pytorch2",
   "language": "python",
   "name": "python3"
  },
  "language_info": {
   "codemirror_mode": {
    "name": "ipython",
    "version": 3
   },
   "file_extension": ".py",
   "mimetype": "text/x-python",
   "name": "python",
   "nbconvert_exporter": "python",
   "pygments_lexer": "ipython3",
   "version": "3.8.16"
  },
  "orig_nbformat": 4
 },
 "nbformat": 4,
 "nbformat_minor": 2
}
